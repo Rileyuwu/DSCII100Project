{
 "cells": [
  {
   "cell_type": "markdown",
   "id": "e5ce9db4-a139-4e5f-985b-9f872d22bd57",
   "metadata": {},
   "source": [
    "## Data Science Project\n",
    "#### What player characteristics and behaviours are most predictive of subscribing to a game-related newsletter, and how do these features differ between various player types?"
   ]
  },
  {
   "cell_type": "code",
   "execution_count": null,
   "id": "1469526b-a807-4702-a4ce-a7b0722539ed",
   "metadata": {},
   "outputs": [],
   "source": []
  }
 ],
 "metadata": {
  "kernelspec": {
   "display_name": "R",
   "language": "R",
   "name": "ir"
  },
  "language_info": {
   "codemirror_mode": "r",
   "file_extension": ".r",
   "mimetype": "text/x-r-source",
   "name": "R",
   "pygments_lexer": "r",
   "version": "4.3.3"
  }
 },
 "nbformat": 4,
 "nbformat_minor": 5
}
