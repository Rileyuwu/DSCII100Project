{
 "cells": [
  {
   "cell_type": "markdown",
   "id": "e5ce9db4-a139-4e5f-985b-9f872d22bd57",
   "metadata": {},
   "source": [
    "## Data Science Project\n",
    "#### Riley So"
   ]
  },
  {
   "cell_type": "markdown",
   "id": "08760d30-eb94-40a1-bda2-696bc994f8a0",
   "metadata": {},
   "source": [
    "#### Introduction\n",
    "The Computer Science department at the University of British Columbia (UBC) is running a project that uses a Minecraft server to study players behaviors. Actions performed by players are logged, creating a data set that captures behavior, characteristiscs, and engagement patterns.\n",
    "\n",
    "However running this type of research project takes time and money. The team needs to buy software licenses, manage server capacity, and find the right players to join. One way to reach players and increase player count is through a game-related newsletter. Knowing which players are most likely to subscribe can help the team focus their recruitment and use their resources more wisely.\n",
    "\n",
    "##### **Question**\n",
    "In order to help the research team target their recruitment efforts, we aim to answer the following question.\n",
    "> Can player characteristics such as age, gender, experience level, and total hours played predict whether a player subscribes to a game-related newsletter?"
   ]
  },
  {
   "cell_type": "markdown",
   "id": "af5481e5-61c6-467d-b1fa-e82245c2aa48",
   "metadata": {},
   "source": [
    "#### Data Description\n",
    "\n",
    "There are two datasets:\n",
    "- `players.csv`: Contains demographic and self-reported experience information for 196 players.\n",
    "- `sessions.csv`: Contains 1,535 records of individual gameplay sessions.\n",
    "\n",
    "To explore this data we will begin by loading the data.\n"
   ]
  },
  {
   "cell_type": "code",
   "execution_count": 5,
   "id": "c611b19e-94aa-4ce4-a6b8-96419c5a3c78",
   "metadata": {},
   "outputs": [
    {
     "name": "stderr",
     "output_type": "stream",
     "text": [
      "\u001b[1mRows: \u001b[22m\u001b[34m196\u001b[39m \u001b[1mColumns: \u001b[22m\u001b[34m7\u001b[39m\n",
      "\u001b[36m──\u001b[39m \u001b[1mColumn specification\u001b[22m \u001b[36m────────────────────────────────────────────────────────\u001b[39m\n",
      "\u001b[1mDelimiter:\u001b[22m \",\"\n",
      "\u001b[31mchr\u001b[39m (4): experience, hashedEmail, name, gender\n",
      "\u001b[32mdbl\u001b[39m (2): played_hours, Age\n",
      "\u001b[33mlgl\u001b[39m (1): subscribe\n",
      "\n",
      "\u001b[36mℹ\u001b[39m Use `spec()` to retrieve the full column specification for this data.\n",
      "\u001b[36mℹ\u001b[39m Specify the column types or set `show_col_types = FALSE` to quiet this message.\n",
      "\u001b[1mRows: \u001b[22m\u001b[34m1535\u001b[39m \u001b[1mColumns: \u001b[22m\u001b[34m5\u001b[39m\n",
      "\u001b[36m──\u001b[39m \u001b[1mColumn specification\u001b[22m \u001b[36m────────────────────────────────────────────────────────\u001b[39m\n",
      "\u001b[1mDelimiter:\u001b[22m \",\"\n",
      "\u001b[31mchr\u001b[39m (3): hashedEmail, start_time, end_time\n",
      "\u001b[32mdbl\u001b[39m (2): original_start_time, original_end_time\n",
      "\n",
      "\u001b[36mℹ\u001b[39m Use `spec()` to retrieve the full column specification for this data.\n",
      "\u001b[36mℹ\u001b[39m Specify the column types or set `show_col_types = FALSE` to quiet this message.\n"
     ]
    }
   ],
   "source": [
    "library(tidyverse)\n",
    "\n",
    "# Load players and sessions data\n",
    "players <- read_csv(\"data/players.csv\")\n",
    "sessions <- read_csv(\"data/sessions.csv\")"
   ]
  },
  {
   "cell_type": "markdown",
   "id": "58fe6fed-b98d-4452-b650-0bbeac8fee97",
   "metadata": {},
   "source": [
    "Now we will provide a find the dimensions of the data, its structure, and its variable types."
   ]
  },
  {
   "cell_type": "code",
   "execution_count": 9,
   "id": "e014288a-2782-4e71-aac6-0a1c7450b48c",
   "metadata": {},
   "outputs": [
    {
     "data": {
      "text/html": [
       "<style>\n",
       ".list-inline {list-style: none; margin:0; padding: 0}\n",
       ".list-inline>li {display: inline-block}\n",
       ".list-inline>li:not(:last-child)::after {content: \"\\00b7\"; padding: 0 .5ex}\n",
       "</style>\n",
       "<ol class=list-inline><li>196</li><li>7</li></ol>\n"
      ],
      "text/latex": [
       "\\begin{enumerate*}\n",
       "\\item 196\n",
       "\\item 7\n",
       "\\end{enumerate*}\n"
      ],
      "text/markdown": [
       "1. 196\n",
       "2. 7\n",
       "\n",
       "\n"
      ],
      "text/plain": [
       "[1] 196   7"
      ]
     },
     "metadata": {},
     "output_type": "display_data"
    },
    {
     "data": {
      "text/html": [
       "<style>\n",
       ".list-inline {list-style: none; margin:0; padding: 0}\n",
       ".list-inline>li {display: inline-block}\n",
       ".list-inline>li:not(:last-child)::after {content: \"\\00b7\"; padding: 0 .5ex}\n",
       "</style>\n",
       "<ol class=list-inline><li>1535</li><li>5</li></ol>\n"
      ],
      "text/latex": [
       "\\begin{enumerate*}\n",
       "\\item 1535\n",
       "\\item 5\n",
       "\\end{enumerate*}\n"
      ],
      "text/markdown": [
       "1. 1535\n",
       "2. 5\n",
       "\n",
       "\n"
      ],
      "text/plain": [
       "[1] 1535    5"
      ]
     },
     "metadata": {},
     "output_type": "display_data"
    },
    {
     "name": "stdout",
     "output_type": "stream",
     "text": [
      "Rows: 196\n",
      "Columns: 7\n",
      "$ experience   \u001b[3m\u001b[90m<chr>\u001b[39m\u001b[23m \"Pro\", \"Veteran\", \"Veteran\", \"Amateur\", \"Regular\", \"Amate…\n",
      "$ subscribe    \u001b[3m\u001b[90m<lgl>\u001b[39m\u001b[23m TRUE, TRUE, FALSE, TRUE, TRUE, TRUE, TRUE, FALSE, TRUE, T…\n",
      "$ hashedEmail  \u001b[3m\u001b[90m<chr>\u001b[39m\u001b[23m \"f6daba428a5e19a3d47574858c13550499be23603422e6a0ee9728f8…\n",
      "$ played_hours \u001b[3m\u001b[90m<dbl>\u001b[39m\u001b[23m 30.3, 3.8, 0.0, 0.7, 0.1, 0.0, 0.0, 0.0, 0.1, 0.0, 1.6, 0…\n",
      "$ name         \u001b[3m\u001b[90m<chr>\u001b[39m\u001b[23m \"Morgan\", \"Christian\", \"Blake\", \"Flora\", \"Kylie\", \"Adrian…\n",
      "$ gender       \u001b[3m\u001b[90m<chr>\u001b[39m\u001b[23m \"Male\", \"Male\", \"Male\", \"Female\", \"Male\", \"Female\", \"Fema…\n",
      "$ Age          \u001b[3m\u001b[90m<dbl>\u001b[39m\u001b[23m 9, 17, 17, 21, 21, 17, 19, 21, 17, 22, 23, 17, 25, 22, 17…\n",
      "Rows: 1,535\n",
      "Columns: 5\n",
      "$ hashedEmail         \u001b[3m\u001b[90m<chr>\u001b[39m\u001b[23m \"bfce39c89d6549f2bb94d8064d3ce69dc3d7e72b38f431d8a…\n",
      "$ start_time          \u001b[3m\u001b[90m<chr>\u001b[39m\u001b[23m \"30/06/2024 18:12\", \"17/06/2024 23:33\", \"25/07/202…\n",
      "$ end_time            \u001b[3m\u001b[90m<chr>\u001b[39m\u001b[23m \"30/06/2024 18:24\", \"17/06/2024 23:46\", \"25/07/202…\n",
      "$ original_start_time \u001b[3m\u001b[90m<dbl>\u001b[39m\u001b[23m 1.71977e+12, 1.71867e+12, 1.72193e+12, 1.72188e+12…\n",
      "$ original_end_time   \u001b[3m\u001b[90m<dbl>\u001b[39m\u001b[23m 1.71977e+12, 1.71867e+12, 1.72193e+12, 1.72188e+12…\n"
     ]
    }
   ],
   "source": [
    "#Data Set Dimensions\n",
    "players_dim <- players |> dim()\n",
    "sessions_dim <- sessions |> dim()\n",
    "\n",
    "players_dim\n",
    "sessions_dim\n",
    "\n",
    "#Structure and Variable Types\n",
    "players |> glimpse()\n",
    "sessions |> glimpse()"
   ]
  },
  {
   "cell_type": "markdown",
   "id": "00c1248c-060e-4162-bdf5-078d739ad397",
   "metadata": {},
   "source": [
    "The `players.csv` dataset contains 196 rows and 7 columns, while `sessions.csv` has 1,535 rows and 5 columns. Each row in `players.csv` represents a unique player, while each row in `sessions.csv` represents one play session. The `players` dataset includes categorical, numeric, and logical types. `sessions` is mainly timestamp-based with a unique ID (`hashedEmail`) used in both datasets."
   ]
  },
  {
   "cell_type": "markdown",
   "id": "32a01fc2-6c9a-48cf-b375-847a7ea09737",
   "metadata": {},
   "source": [
    "Before summarising statistics we want to account for missing values."
   ]
  },
  {
   "cell_type": "code",
   "execution_count": 10,
   "id": "184d2af5-0674-4db9-baf3-1eb0a7441de8",
   "metadata": {},
   "outputs": [
    {
     "data": {
      "text/html": [
       "<table class=\"dataframe\">\n",
       "<caption>A tibble: 1 × 7</caption>\n",
       "<thead>\n",
       "\t<tr><th scope=col>experience</th><th scope=col>subscribe</th><th scope=col>hashedEmail</th><th scope=col>played_hours</th><th scope=col>name</th><th scope=col>gender</th><th scope=col>Age</th></tr>\n",
       "\t<tr><th scope=col>&lt;int&gt;</th><th scope=col>&lt;int&gt;</th><th scope=col>&lt;int&gt;</th><th scope=col>&lt;int&gt;</th><th scope=col>&lt;int&gt;</th><th scope=col>&lt;int&gt;</th><th scope=col>&lt;int&gt;</th></tr>\n",
       "</thead>\n",
       "<tbody>\n",
       "\t<tr><td>0</td><td>0</td><td>0</td><td>0</td><td>0</td><td>0</td><td>2</td></tr>\n",
       "</tbody>\n",
       "</table>\n"
      ],
      "text/latex": [
       "A tibble: 1 × 7\n",
       "\\begin{tabular}{lllllll}\n",
       " experience & subscribe & hashedEmail & played\\_hours & name & gender & Age\\\\\n",
       " <int> & <int> & <int> & <int> & <int> & <int> & <int>\\\\\n",
       "\\hline\n",
       "\t 0 & 0 & 0 & 0 & 0 & 0 & 2\\\\\n",
       "\\end{tabular}\n"
      ],
      "text/markdown": [
       "\n",
       "A tibble: 1 × 7\n",
       "\n",
       "| experience &lt;int&gt; | subscribe &lt;int&gt; | hashedEmail &lt;int&gt; | played_hours &lt;int&gt; | name &lt;int&gt; | gender &lt;int&gt; | Age &lt;int&gt; |\n",
       "|---|---|---|---|---|---|---|\n",
       "| 0 | 0 | 0 | 0 | 0 | 0 | 2 |\n",
       "\n"
      ],
      "text/plain": [
       "  experience subscribe hashedEmail played_hours name gender Age\n",
       "1 0          0         0           0            0    0      2  "
      ]
     },
     "metadata": {},
     "output_type": "display_data"
    },
    {
     "data": {
      "text/html": [
       "<table class=\"dataframe\">\n",
       "<caption>A tibble: 1 × 5</caption>\n",
       "<thead>\n",
       "\t<tr><th scope=col>hashedEmail</th><th scope=col>start_time</th><th scope=col>end_time</th><th scope=col>original_start_time</th><th scope=col>original_end_time</th></tr>\n",
       "\t<tr><th scope=col>&lt;int&gt;</th><th scope=col>&lt;int&gt;</th><th scope=col>&lt;int&gt;</th><th scope=col>&lt;int&gt;</th><th scope=col>&lt;int&gt;</th></tr>\n",
       "</thead>\n",
       "<tbody>\n",
       "\t<tr><td>0</td><td>0</td><td>2</td><td>0</td><td>2</td></tr>\n",
       "</tbody>\n",
       "</table>\n"
      ],
      "text/latex": [
       "A tibble: 1 × 5\n",
       "\\begin{tabular}{lllll}\n",
       " hashedEmail & start\\_time & end\\_time & original\\_start\\_time & original\\_end\\_time\\\\\n",
       " <int> & <int> & <int> & <int> & <int>\\\\\n",
       "\\hline\n",
       "\t 0 & 0 & 2 & 0 & 2\\\\\n",
       "\\end{tabular}\n"
      ],
      "text/markdown": [
       "\n",
       "A tibble: 1 × 5\n",
       "\n",
       "| hashedEmail &lt;int&gt; | start_time &lt;int&gt; | end_time &lt;int&gt; | original_start_time &lt;int&gt; | original_end_time &lt;int&gt; |\n",
       "|---|---|---|---|---|\n",
       "| 0 | 0 | 2 | 0 | 2 |\n",
       "\n"
      ],
      "text/plain": [
       "  hashedEmail start_time end_time original_start_time original_end_time\n",
       "1 0           0          2        0                   2                "
      ]
     },
     "metadata": {},
     "output_type": "display_data"
    }
   ],
   "source": [
    "players |> summarise(across(everything(), ~ sum(is.na(.))))\n",
    "sessions |> summarise(across(everything(), ~ sum(is.na(.))))"
   ]
  },
  {
   "cell_type": "markdown",
   "id": "ea7b8d2e-fde4-4a15-b1c1-5ca8df28ccae",
   "metadata": {},
   "source": [
    "- `players.csv` has **2 missing values** in the `Age` column.\n",
    "- `sessions.csv` has **2 missing values** in `end_time` and `original_end_time`.\n",
    "No other missing values are present."
   ]
  },
  {
   "cell_type": "code",
   "execution_count": 18,
   "id": "93bcad2c-7adc-420e-bfd1-e78206e76084",
   "metadata": {
    "scrolled": true
   },
   "outputs": [
    {
     "data": {
      "text/plain": [
       "  experience        subscribe       hashedEmail         played_hours    \n",
       " Length:196         Mode :logical   Length:196         Min.   :  0.000  \n",
       " Class :character   FALSE:52        Class :character   1st Qu.:  0.000  \n",
       " Mode  :character   TRUE :144       Mode  :character   Median :  0.100  \n",
       "                                                       Mean   :  5.846  \n",
       "                                                       3rd Qu.:  0.600  \n",
       "                                                       Max.   :223.100  \n",
       "                                                                        \n",
       "     name              gender               Age       \n",
       " Length:196         Length:196         Min.   : 8.00  \n",
       " Class :character   Class :character   1st Qu.:17.00  \n",
       " Mode  :character   Mode  :character   Median :19.00  \n",
       "                                       Mean   :20.52  \n",
       "                                       3rd Qu.:22.00  \n",
       "                                       Max.   :50.00  \n",
       "                                       NA's   :2      "
      ]
     },
     "metadata": {},
     "output_type": "display_data"
    },
    {
     "data": {
      "text/plain": [
       " hashedEmail         start_time          end_time         original_start_time\n",
       " Length:1535        Length:1535        Length:1535        Min.   :1.712e+12  \n",
       " Class :character   Class :character   Class :character   1st Qu.:1.716e+12  \n",
       " Mode  :character   Mode  :character   Mode  :character   Median :1.719e+12  \n",
       "                                                          Mean   :1.719e+12  \n",
       "                                                          3rd Qu.:1.722e+12  \n",
       "                                                          Max.   :1.727e+12  \n",
       "                                                                             \n",
       " original_end_time  \n",
       " Min.   :1.712e+12  \n",
       " 1st Qu.:1.716e+12  \n",
       " Median :1.719e+12  \n",
       " Mean   :1.719e+12  \n",
       " 3rd Qu.:1.722e+12  \n",
       " Max.   :1.727e+12  \n",
       " NA's   :2          "
      ]
     },
     "metadata": {},
     "output_type": "display_data"
    }
   ],
   "source": [
    "players |> summary()\n",
    "sessions |> summary()"
   ]
  },
  {
   "cell_type": "markdown",
   "id": "b26df4d7-7a90-48de-a3f7-d4495d5e4912",
   "metadata": {},
   "source": [
    "##### Summary of Data\n",
    "**players.csv**\n",
    "\n",
    "- **Age**: Ranges from 8 to 50 years (Mean: 20.5, Median: 19). Most players are in their late teens or early 20s. Two values are missing.\n",
    "- **played_hours**: Strongly right-skewed — Median is only 0.1, but Max is 223 hours. Most players spent very little time on the server, with a few heavy users.\n",
    "- **subscribe**: About 73% (144/196) of players subscribed to the newsletter this is our target variable.\n",
    "- **experience & gender**: Character columns that will be converted to categorical for modeling and grouped visualization.\n",
    "- **name & hashedEmail**: Identifiers, not used for modeling directly.\n",
    "\n",
    "**sessions.csv**\n",
    "\n",
    "- **original_start_time / original_end_time**: Unix timestamps covering mid-2024. Can be used to analyze peak play times or session durations. Two `original_end_time` values are missing.\n",
    "- **start_time / end_time**: Human-readable time strings. Useful for plotting session timing trends.\n",
    "- **hashedEmail**: Common key with `players.csv` for potential grouping but not needed for prediction.\n",
    "\n"
   ]
  },
  {
   "cell_type": "markdown",
   "id": "553a5c18-21f6-41d4-9397-b6f1d6589729",
   "metadata": {},
   "source": [
    "Additionally lets look at the **categorical data**"
   ]
  },
  {
   "cell_type": "code",
   "execution_count": 20,
   "id": "c0aca665-969f-4e17-8a2c-823bc5003754",
   "metadata": {},
   "outputs": [
    {
     "data": {
      "text/html": [
       "<table class=\"dataframe\">\n",
       "<caption>A spec_tbl_df: 5 × 2</caption>\n",
       "<thead>\n",
       "\t<tr><th scope=col>experience</th><th scope=col>n</th></tr>\n",
       "\t<tr><th scope=col>&lt;chr&gt;</th><th scope=col>&lt;int&gt;</th></tr>\n",
       "</thead>\n",
       "<tbody>\n",
       "\t<tr><td>Amateur </td><td>63</td></tr>\n",
       "\t<tr><td>Beginner</td><td>35</td></tr>\n",
       "\t<tr><td>Pro     </td><td>14</td></tr>\n",
       "\t<tr><td>Regular </td><td>36</td></tr>\n",
       "\t<tr><td>Veteran </td><td>48</td></tr>\n",
       "</tbody>\n",
       "</table>\n"
      ],
      "text/latex": [
       "A spec\\_tbl\\_df: 5 × 2\n",
       "\\begin{tabular}{ll}\n",
       " experience & n\\\\\n",
       " <chr> & <int>\\\\\n",
       "\\hline\n",
       "\t Amateur  & 63\\\\\n",
       "\t Beginner & 35\\\\\n",
       "\t Pro      & 14\\\\\n",
       "\t Regular  & 36\\\\\n",
       "\t Veteran  & 48\\\\\n",
       "\\end{tabular}\n"
      ],
      "text/markdown": [
       "\n",
       "A spec_tbl_df: 5 × 2\n",
       "\n",
       "| experience &lt;chr&gt; | n &lt;int&gt; |\n",
       "|---|---|\n",
       "| Amateur  | 63 |\n",
       "| Beginner | 35 |\n",
       "| Pro      | 14 |\n",
       "| Regular  | 36 |\n",
       "| Veteran  | 48 |\n",
       "\n"
      ],
      "text/plain": [
       "  experience n \n",
       "1 Amateur    63\n",
       "2 Beginner   35\n",
       "3 Pro        14\n",
       "4 Regular    36\n",
       "5 Veteran    48"
      ]
     },
     "metadata": {},
     "output_type": "display_data"
    },
    {
     "data": {
      "text/html": [
       "<table class=\"dataframe\">\n",
       "<caption>A spec_tbl_df: 7 × 2</caption>\n",
       "<thead>\n",
       "\t<tr><th scope=col>gender</th><th scope=col>n</th></tr>\n",
       "\t<tr><th scope=col>&lt;chr&gt;</th><th scope=col>&lt;int&gt;</th></tr>\n",
       "</thead>\n",
       "<tbody>\n",
       "\t<tr><td>Agender          </td><td>  2</td></tr>\n",
       "\t<tr><td>Female           </td><td> 37</td></tr>\n",
       "\t<tr><td>Male             </td><td>124</td></tr>\n",
       "\t<tr><td>Non-binary       </td><td> 15</td></tr>\n",
       "\t<tr><td>Other            </td><td>  1</td></tr>\n",
       "\t<tr><td>Prefer not to say</td><td> 11</td></tr>\n",
       "\t<tr><td>Two-Spirited     </td><td>  6</td></tr>\n",
       "</tbody>\n",
       "</table>\n"
      ],
      "text/latex": [
       "A spec\\_tbl\\_df: 7 × 2\n",
       "\\begin{tabular}{ll}\n",
       " gender & n\\\\\n",
       " <chr> & <int>\\\\\n",
       "\\hline\n",
       "\t Agender           &   2\\\\\n",
       "\t Female            &  37\\\\\n",
       "\t Male              & 124\\\\\n",
       "\t Non-binary        &  15\\\\\n",
       "\t Other             &   1\\\\\n",
       "\t Prefer not to say &  11\\\\\n",
       "\t Two-Spirited      &   6\\\\\n",
       "\\end{tabular}\n"
      ],
      "text/markdown": [
       "\n",
       "A spec_tbl_df: 7 × 2\n",
       "\n",
       "| gender &lt;chr&gt; | n &lt;int&gt; |\n",
       "|---|---|\n",
       "| Agender           |   2 |\n",
       "| Female            |  37 |\n",
       "| Male              | 124 |\n",
       "| Non-binary        |  15 |\n",
       "| Other             |   1 |\n",
       "| Prefer not to say |  11 |\n",
       "| Two-Spirited      |   6 |\n",
       "\n"
      ],
      "text/plain": [
       "  gender            n  \n",
       "1 Agender             2\n",
       "2 Female             37\n",
       "3 Male              124\n",
       "4 Non-binary         15\n",
       "5 Other               1\n",
       "6 Prefer not to say  11\n",
       "7 Two-Spirited        6"
      ]
     },
     "metadata": {},
     "output_type": "display_data"
    },
    {
     "data": {
      "text/html": [
       "<table class=\"dataframe\">\n",
       "<caption>A spec_tbl_df: 2 × 2</caption>\n",
       "<thead>\n",
       "\t<tr><th scope=col>subscribe</th><th scope=col>n</th></tr>\n",
       "\t<tr><th scope=col>&lt;lgl&gt;</th><th scope=col>&lt;int&gt;</th></tr>\n",
       "</thead>\n",
       "<tbody>\n",
       "\t<tr><td>FALSE</td><td> 52</td></tr>\n",
       "\t<tr><td> TRUE</td><td>144</td></tr>\n",
       "</tbody>\n",
       "</table>\n"
      ],
      "text/latex": [
       "A spec\\_tbl\\_df: 2 × 2\n",
       "\\begin{tabular}{ll}\n",
       " subscribe & n\\\\\n",
       " <lgl> & <int>\\\\\n",
       "\\hline\n",
       "\t FALSE &  52\\\\\n",
       "\t  TRUE & 144\\\\\n",
       "\\end{tabular}\n"
      ],
      "text/markdown": [
       "\n",
       "A spec_tbl_df: 2 × 2\n",
       "\n",
       "| subscribe &lt;lgl&gt; | n &lt;int&gt; |\n",
       "|---|---|\n",
       "| FALSE |  52 |\n",
       "|  TRUE | 144 |\n",
       "\n"
      ],
      "text/plain": [
       "  subscribe n  \n",
       "1 FALSE      52\n",
       "2  TRUE     144"
      ]
     },
     "metadata": {},
     "output_type": "display_data"
    },
    {
     "data": {
      "text/html": [
       "<table class=\"dataframe\">\n",
       "<caption>A tibble: 1 × 1</caption>\n",
       "<thead>\n",
       "\t<tr><th scope=col>unique_players</th></tr>\n",
       "\t<tr><th scope=col>&lt;int&gt;</th></tr>\n",
       "</thead>\n",
       "<tbody>\n",
       "\t<tr><td>125</td></tr>\n",
       "</tbody>\n",
       "</table>\n"
      ],
      "text/latex": [
       "A tibble: 1 × 1\n",
       "\\begin{tabular}{l}\n",
       " unique\\_players\\\\\n",
       " <int>\\\\\n",
       "\\hline\n",
       "\t 125\\\\\n",
       "\\end{tabular}\n"
      ],
      "text/markdown": [
       "\n",
       "A tibble: 1 × 1\n",
       "\n",
       "| unique_players &lt;int&gt; |\n",
       "|---|\n",
       "| 125 |\n",
       "\n"
      ],
      "text/plain": [
       "  unique_players\n",
       "1 125           "
      ]
     },
     "metadata": {},
     "output_type": "display_data"
    }
   ],
   "source": [
    "# players\n",
    "players |> count(experience)\n",
    "players |> count(gender)\n",
    "players |> count(subscribe)\n",
    "\n",
    "# sessions\n",
    "sessions |> distinct(hashedEmail) |> count(name = \"unique_players\")"
   ]
  },
  {
   "cell_type": "markdown",
   "id": "3d0b3943-0927-4e09-89c5-3f5df899bc7b",
   "metadata": {},
   "source": [
    "**Observations of categorical data**\n",
    "- Most players classify as \"Veteran\" or \"Pro\".\n",
    "- Gender appears evenly distributed.\n",
    "- Subscription rates are close to balanced.\n",
    "- 85+ unique players have sessions recorded, indicating repeat activity."
   ]
  },
  {
   "cell_type": "markdown",
   "id": "7471ea03-0643-4f2e-98ec-c1738e580a1d",
   "metadata": {},
   "source": [
    "#### **Takeaway** \n",
    "Both datasets are clean and contain relevant features.\n",
    "- `players.csv` is suited for modeling the subscription prediction.\n",
    "- `sessions.csv` will support additional insights."
   ]
  },
  {
   "cell_type": "markdown",
   "id": "0ba5fb15-32e4-4d2d-ac1c-c9a4f74fca07",
   "metadata": {},
   "source": [
    "### Data Cleaning\n",
    "Now that we have described and explored the data, lets prepare the data for anlaysis. To do this we will:\n",
    "- Remove or impute missing values\n",
    "- Convert characters to factors\n",
    "- Prepare data for modeling"
   ]
  },
  {
   "cell_type": "markdown",
   "id": "0a5104a4-c9d4-4a0f-9de7-cc9bd56b29a0",
   "metadata": {},
   "source": [
    "As seen above we found 2 missing values in the `Age` column. Since this is a small portion of the dataset (2 of 196) we will **remove** these rows."
   ]
  },
  {
   "cell_type": "code",
   "execution_count": 26,
   "id": "af2aaa76-e9ed-4205-b189-ce7fe1792908",
   "metadata": {},
   "outputs": [
    {
     "data": {
      "text/html": [
       "<table class=\"dataframe\">\n",
       "<caption>A spec_tbl_df: 194 × 7</caption>\n",
       "<thead>\n",
       "\t<tr><th scope=col>experience</th><th scope=col>subscribe</th><th scope=col>hashedEmail</th><th scope=col>played_hours</th><th scope=col>name</th><th scope=col>gender</th><th scope=col>Age</th></tr>\n",
       "\t<tr><th scope=col>&lt;chr&gt;</th><th scope=col>&lt;lgl&gt;</th><th scope=col>&lt;chr&gt;</th><th scope=col>&lt;dbl&gt;</th><th scope=col>&lt;chr&gt;</th><th scope=col>&lt;chr&gt;</th><th scope=col>&lt;dbl&gt;</th></tr>\n",
       "</thead>\n",
       "<tbody>\n",
       "\t<tr><td>Pro     </td><td> TRUE</td><td>f6daba428a5e19a3d47574858c13550499be23603422e6a0ee9728f8b53e192d</td><td>30.3</td><td>Morgan   </td><td>Male      </td><td> 9</td></tr>\n",
       "\t<tr><td>Veteran </td><td> TRUE</td><td>f3c813577c458ba0dfef80996f8f32c93b6e8af1fa939732842f2312358a88e9</td><td> 3.8</td><td>Christian</td><td>Male      </td><td>17</td></tr>\n",
       "\t<tr><td>Veteran </td><td>FALSE</td><td>b674dd7ee0d24096d1c019615ce4d12b20fcbff12d79d3c5a9d2118eb7ccbb28</td><td> 0.0</td><td>Blake    </td><td>Male      </td><td>17</td></tr>\n",
       "\t<tr><td>Amateur </td><td> TRUE</td><td>23fe711e0e3b77f1da7aa221ab1192afe21648d47d2b4fa7a5a659ff443a0eb5</td><td> 0.7</td><td>Flora    </td><td>Female    </td><td>21</td></tr>\n",
       "\t<tr><td>Regular </td><td> TRUE</td><td>7dc01f10bf20671ecfccdac23812b1b415acd42c2147cb0af4d48fcce2420f3e</td><td> 0.1</td><td>Kylie    </td><td>Male      </td><td>21</td></tr>\n",
       "\t<tr><td>Amateur </td><td> TRUE</td><td>f58aad5996a435f16b0284a3b267f973f9af99e7a89bee0430055a44fa92f977</td><td> 0.0</td><td>Adrian   </td><td>Female    </td><td>17</td></tr>\n",
       "\t<tr><td>Regular </td><td> TRUE</td><td>8e594b8953193b26f498db95a508b03c6fe1c24bb5251d392c18a0da9a722807</td><td> 0.0</td><td>Luna     </td><td>Female    </td><td>19</td></tr>\n",
       "\t<tr><td>Amateur </td><td>FALSE</td><td>1d2371d8a35c8831034b25bda8764539ab7db0f63938696917c447128a2540dd</td><td> 0.0</td><td>Emerson  </td><td>Male      </td><td>21</td></tr>\n",
       "\t<tr><td>Amateur </td><td> TRUE</td><td>8b71f4d66a38389b7528bb38ba6eb71157733df7d1740371852a797ae97d82d1</td><td> 0.1</td><td>Natalie  </td><td>Male      </td><td>17</td></tr>\n",
       "\t<tr><td>Veteran </td><td> TRUE</td><td>bbe2d83de678f519c4b3daa7265e683b4fe2d814077f9094afd11d8f217039ec</td><td> 0.0</td><td>Nyla     </td><td>Female    </td><td>22</td></tr>\n",
       "\t<tr><td>Veteran </td><td> TRUE</td><td>7a4686586d290c67179275c7c3dfb4ea02f4d317d9ee0e2cee98baa27877a875</td><td> 1.6</td><td>Lane     </td><td>Female    </td><td>23</td></tr>\n",
       "\t<tr><td>Pro     </td><td> TRUE</td><td>4caa42e1b20511552434978171dcf7283fb6eb857eb871327e39bfc328002309</td><td> 0.0</td><td>Daniela  </td><td>Male      </td><td>17</td></tr>\n",
       "\t<tr><td>Beginner</td><td> TRUE</td><td>4bed6f49b672974f706aa7f020b4f29020326bf594520593557cd381a51559b8</td><td> 1.5</td><td>Sarah    </td><td>Female    </td><td>25</td></tr>\n",
       "\t<tr><td>Amateur </td><td> TRUE</td><td>3caa832978e0596779f4ee7c686c4592fb6de893925025d25bf26be9a8cd03f5</td><td> 0.2</td><td>Thatcher </td><td>Male      </td><td>22</td></tr>\n",
       "\t<tr><td>Veteran </td><td> TRUE</td><td>6f9acf8ea9956fe817895c78d10e1e25c11aba335a451e5b0322b073ee5008c4</td><td> 0.0</td><td>Niamh    </td><td>Non-binary</td><td>17</td></tr>\n",
       "\t<tr><td>Amateur </td><td>FALSE</td><td>2313a06afe47eacc28ff55adf6f072e7d12b0d12d7cbae29656f9029ec72bb53</td><td> 0.0</td><td>Quinlan  </td><td>Male      </td><td>22</td></tr>\n",
       "\t<tr><td>Beginner</td><td> TRUE</td><td>9db37a1d381697f6c83e3b97b276e38bb9d9c811ba4596edb75d4dbfea6415b0</td><td> 0.0</td><td>Elodie   </td><td>Female    </td><td>17</td></tr>\n",
       "\t<tr><td>Amateur </td><td> TRUE</td><td>a175d4741dc84e6baf77901f6e8e0a06f54809a34e6b5211159bced346f7fb3e</td><td>48.4</td><td>Xander   </td><td>Female    </td><td>17</td></tr>\n",
       "\t<tr><td>Amateur </td><td> TRUE</td><td>ab1f44f93c3b828f55458971db393052d9711df3e0e7ff69540bfebfcec555ff</td><td> 0.5</td><td>Marley   </td><td>Male      </td><td>17</td></tr>\n",
       "\t<tr><td>Regular </td><td> TRUE</td><td>20ae3f8b5323674fe6e537bc91928841cfc2a00c1b36522fd25370bb6fa89d36</td><td> 0.6</td><td>Ryker    </td><td>Male      </td><td>19</td></tr>\n",
       "\t<tr><td>Regular </td><td> TRUE</td><td>bc704ff2bc676dbf48ee41b9e11481c1387bf758ad318f2428f336e3fecc6660</td><td> 0.3</td><td>Andy     </td><td>Male      </td><td> 8</td></tr>\n",
       "\t<tr><td>Amateur </td><td>FALSE</td><td>200db0417ee70863c7e2a0f214c737476fb86de5869d0b907a077d726357e687</td><td> 0.1</td><td>Anastasia</td><td>Female    </td><td>17</td></tr>\n",
       "\t<tr><td>Beginner</td><td> TRUE</td><td>f9ac013b2f0bc2bd4928a6a0fc8a0aae8b5c4f2670cf9e18f547b7e72034c965</td><td> 1.0</td><td>Leah     </td><td>Male      </td><td>17</td></tr>\n",
       "\t<tr><td>Beginner</td><td> TRUE</td><td>89c8e07d6a2aa102d9cd05086d51b2e41195c9c807dd976a06f4262ff36d0cca</td><td> 0.0</td><td>Ren      </td><td>Male      </td><td>17</td></tr>\n",
       "\t<tr><td>Amateur </td><td> TRUE</td><td>119f01b9877fc5ea0073d05602a353b91c4b48e4cf02f42bb8d661b46a34b760</td><td> 0.7</td><td>Hugo     </td><td>Female    </td><td>21</td></tr>\n",
       "\t<tr><td>Regular </td><td> TRUE</td><td>5baba1651a0b92788bc0d6dcdf00be64af1cf9f0015bbeed204ddabd1d872e83</td><td> 0.6</td><td>Kendall  </td><td>Female    </td><td>28</td></tr>\n",
       "\t<tr><td>Regular </td><td> TRUE</td><td>50cec73a632e4be7b155c3df5165de28b2c5baf092abcb7f509f5645776a56c2</td><td> 0.0</td><td>Iman     </td><td>Male      </td><td>17</td></tr>\n",
       "\t<tr><td>Veteran </td><td>FALSE</td><td>f8acd26a5e452b682b9f8b20108caef1ee2e745efe08e95806980bd2388a3fea</td><td> 0.0</td><td>Finn     </td><td>Male      </td><td>23</td></tr>\n",
       "\t<tr><td>Amateur </td><td> TRUE</td><td>4b01bce3f141289709e8278b02ba5d2aaa7105d7ccb9c7deb37670a80e332774</td><td> 1.8</td><td>Luca     </td><td>Male      </td><td>23</td></tr>\n",
       "\t<tr><td>Veteran </td><td>FALSE</td><td>951e54f7376e2b2f0915e9e3646c701af4a2fe839385b13f9e0084b08f8070bd</td><td> 0.1</td><td>Vivienne </td><td>Male      </td><td>18</td></tr>\n",
       "\t<tr><td>⋮</td><td>⋮</td><td>⋮</td><td>⋮</td><td>⋮</td><td>⋮</td><td>⋮</td></tr>\n",
       "\t<tr><td>Regular </td><td> TRUE</td><td>c121e4d197469bea90e21c0495001f4e21824adb98cbc6a40d54e66617cee174</td><td> 0.1</td><td>Rupert   </td><td>Male             </td><td>21</td></tr>\n",
       "\t<tr><td>Amateur </td><td>FALSE</td><td>7096b30972a32029244fc6171f21bc5996b51b8d75df7a94f003dead428988f9</td><td> 1.0</td><td>Radwan   </td><td>Male             </td><td>26</td></tr>\n",
       "\t<tr><td>Beginner</td><td>FALSE</td><td>42eafe96ed5c1684e3b5cc614d1b01a117173d3ec6898abcf1177d9822bd39f7</td><td> 0.3</td><td>Ariana   </td><td>Female           </td><td>17</td></tr>\n",
       "\t<tr><td>Veteran </td><td> TRUE</td><td>9ba67e127e4e70d909f6237644bb4674b17bc6ae5c9e735f88cfc50e22b499c6</td><td> 0.1</td><td>Quinton  </td><td>Male             </td><td>17</td></tr>\n",
       "\t<tr><td>Veteran </td><td>FALSE</td><td>4bfad3613c71ace05644bf210195d9fb0d3d9513753ad2f8a16d1a80699bb906</td><td> 0.1</td><td>Rocco    </td><td>Male             </td><td>17</td></tr>\n",
       "\t<tr><td>Pro     </td><td>FALSE</td><td>060aca80f8cfbf1c91553a72f4d5ec8034764b05ab59fe8e1cf0eee9a7b67967</td><td> 0.4</td><td>Lyra     </td><td>Male             </td><td>21</td></tr>\n",
       "\t<tr><td>Beginner</td><td>FALSE</td><td>80afc8e7137de6a232421e926c1e6e64ddeef1d8157c4439746bc00fcf91e8a7</td><td> 1.8</td><td>Amelia   </td><td>Male             </td><td>32</td></tr>\n",
       "\t<tr><td>Veteran </td><td> TRUE</td><td>af6b2350478c6bd6af97c91c7eed1d121b82676d1d519ef5b6cfa16dd451fe27</td><td> 0.0</td><td>Saif     </td><td>Agender          </td><td>20</td></tr>\n",
       "\t<tr><td>Regular </td><td>FALSE</td><td>7b17513f11968feaf6b02977885c436dc2a4549489ca25ef03022f9fbae19d81</td><td> 0.0</td><td>Balthazar</td><td>Male             </td><td>50</td></tr>\n",
       "\t<tr><td>Veteran </td><td> TRUE</td><td>171d3c323c6430ffe0722c931f4cced5c48935f6804e0ff250964e4c41da55b1</td><td> 0.0</td><td>Parker   </td><td>Male             </td><td>17</td></tr>\n",
       "\t<tr><td>Amateur </td><td> TRUE</td><td>55d24216db39c27e1f17cc43d3127cbf8ed76ada6d098202b53ded319855e2c1</td><td> 0.3</td><td>Joaquim  </td><td>Male             </td><td>17</td></tr>\n",
       "\t<tr><td>Pro     </td><td>FALSE</td><td>e1e5b1d36ab7680b6927fd3cb619c2b5373167750f90f7a21bf67b5d9b0fd73f</td><td> 0.0</td><td>Jesse    </td><td>Non-binary       </td><td>17</td></tr>\n",
       "\t<tr><td>Veteran </td><td>FALSE</td><td>a1e0438d568b9c05a93cadaf99969e4d44794d19dea31edd723cbc916f878c33</td><td> 2.7</td><td>Jamie    </td><td>Non-binary       </td><td>21</td></tr>\n",
       "\t<tr><td>Amateur </td><td> TRUE</td><td>9955ab948064150d3686ef564389bdc6d6c60bc620a5ce3084b3dec4a7a006a7</td><td> 0.4</td><td>Charlie  </td><td>Two-Spirited     </td><td>17</td></tr>\n",
       "\t<tr><td>Veteran </td><td> TRUE</td><td>6b1cdc07fcc1f7ea09509341fd245dd34fdba386f14a493e9107c18604baedc9</td><td> 0.1</td><td>Finnian  </td><td>Non-binary       </td><td>17</td></tr>\n",
       "\t<tr><td>Amateur </td><td>FALSE</td><td>93efabc9f7de58f44c457bac715cf8f9f44cd88cc574fc02624cac194d2f0ea5</td><td> 2.1</td><td>Sebastián</td><td>Male             </td><td>24</td></tr>\n",
       "\t<tr><td>Amateur </td><td> TRUE</td><td>42382bb2af563e6979c5b84d288cbb49bb2ef90b1bcf196c2902da4ce20eb7f3</td><td> 0.8</td><td>Hunter   </td><td>Female           </td><td>22</td></tr>\n",
       "\t<tr><td>Pro     </td><td>FALSE</td><td>f7875ae87a61632030d5c4029ee8cf081be7047b2b4a9c04ab5a706f59786197</td><td> 0.2</td><td>Liam     </td><td>Male             </td><td>17</td></tr>\n",
       "\t<tr><td>Amateur </td><td> TRUE</td><td>24d4892c2c3ce11d3e54c3bf31ee218901cac7a2f564911d67424c8fdf0874fe</td><td>32.0</td><td>Sidney   </td><td>Male             </td><td>22</td></tr>\n",
       "\t<tr><td>Pro     </td><td>FALSE</td><td>d46bd29a2ed08e3500bd8729085ef4b6f0ca65baf4c756f88b6bedf7a18e0352</td><td> 1.7</td><td>Asher    </td><td>Male             </td><td>17</td></tr>\n",
       "\t<tr><td>Regular </td><td>FALSE</td><td>8e98b6db2053af0bc0e62cd55bcea5a08f23986dec3d02ca520ea039517e6744</td><td> 0.1</td><td>Sam      </td><td>Male             </td><td>18</td></tr>\n",
       "\t<tr><td>Veteran </td><td> TRUE</td><td>ba24bebe588a34ac546f8559850c65bc90cd9d51b821581bd6e25cff437a1081</td><td> 0.1</td><td>Gabriela </td><td>Female           </td><td>44</td></tr>\n",
       "\t<tr><td>Amateur </td><td> TRUE</td><td>e3f0ad9aadd27f3d1d9197e58546d045018daa767675033d9af9a2b74e763739</td><td> 0.0</td><td>Jasper   </td><td>Male             </td><td>17</td></tr>\n",
       "\t<tr><td>Beginner</td><td> TRUE</td><td>8c9d043ebb3689e679a37bfed30ea96272bcd14689ed2d9fcd68a4ae0c1663bc</td><td> 0.0</td><td>Lina     </td><td>Female           </td><td>17</td></tr>\n",
       "\t<tr><td>Amateur </td><td>FALSE</td><td>514ebbaa30f0d162127e065ab780892b7930cf8d75944d5eb09c91c02d6026c7</td><td> 0.0</td><td>Orion    </td><td>Male             </td><td>17</td></tr>\n",
       "\t<tr><td>Amateur </td><td> TRUE</td><td>644fe4200c19a73768b3fa598afcbd0948f7557925b7f17166285da23af31cc6</td><td> 0.0</td><td>Rhys     </td><td>Male             </td><td>20</td></tr>\n",
       "\t<tr><td>Amateur </td><td> TRUE</td><td>b6e9e593b9ec51c5e335457341c324c34a2239531e1890b93ca52ac1dc76b08f</td><td> 0.0</td><td>Bailey   </td><td>Female           </td><td>17</td></tr>\n",
       "\t<tr><td>Veteran </td><td>FALSE</td><td>71453e425f07d10da4fa2b349c83e73ccdf0fb3312f778b35c5802c3292c87bd</td><td> 0.3</td><td>Pascal   </td><td>Male             </td><td>22</td></tr>\n",
       "\t<tr><td>Amateur </td><td>FALSE</td><td>d572f391d452b76ea2d7e5e53a3d38bfd7499c7399db299bd4fedb06a46ad5bb</td><td> 0.0</td><td>Dylan    </td><td>Prefer not to say</td><td>17</td></tr>\n",
       "\t<tr><td>Amateur </td><td>FALSE</td><td>f19e136ddde68f365afc860c725ccff54307dedd13968e896a9f890c40aea436</td><td> 2.3</td><td>Harlow   </td><td>Male             </td><td>17</td></tr>\n",
       "</tbody>\n",
       "</table>\n"
      ],
      "text/latex": [
       "A spec\\_tbl\\_df: 194 × 7\n",
       "\\begin{tabular}{lllllll}\n",
       " experience & subscribe & hashedEmail & played\\_hours & name & gender & Age\\\\\n",
       " <chr> & <lgl> & <chr> & <dbl> & <chr> & <chr> & <dbl>\\\\\n",
       "\\hline\n",
       "\t Pro      &  TRUE & f6daba428a5e19a3d47574858c13550499be23603422e6a0ee9728f8b53e192d & 30.3 & Morgan    & Male       &  9\\\\\n",
       "\t Veteran  &  TRUE & f3c813577c458ba0dfef80996f8f32c93b6e8af1fa939732842f2312358a88e9 &  3.8 & Christian & Male       & 17\\\\\n",
       "\t Veteran  & FALSE & b674dd7ee0d24096d1c019615ce4d12b20fcbff12d79d3c5a9d2118eb7ccbb28 &  0.0 & Blake     & Male       & 17\\\\\n",
       "\t Amateur  &  TRUE & 23fe711e0e3b77f1da7aa221ab1192afe21648d47d2b4fa7a5a659ff443a0eb5 &  0.7 & Flora     & Female     & 21\\\\\n",
       "\t Regular  &  TRUE & 7dc01f10bf20671ecfccdac23812b1b415acd42c2147cb0af4d48fcce2420f3e &  0.1 & Kylie     & Male       & 21\\\\\n",
       "\t Amateur  &  TRUE & f58aad5996a435f16b0284a3b267f973f9af99e7a89bee0430055a44fa92f977 &  0.0 & Adrian    & Female     & 17\\\\\n",
       "\t Regular  &  TRUE & 8e594b8953193b26f498db95a508b03c6fe1c24bb5251d392c18a0da9a722807 &  0.0 & Luna      & Female     & 19\\\\\n",
       "\t Amateur  & FALSE & 1d2371d8a35c8831034b25bda8764539ab7db0f63938696917c447128a2540dd &  0.0 & Emerson   & Male       & 21\\\\\n",
       "\t Amateur  &  TRUE & 8b71f4d66a38389b7528bb38ba6eb71157733df7d1740371852a797ae97d82d1 &  0.1 & Natalie   & Male       & 17\\\\\n",
       "\t Veteran  &  TRUE & bbe2d83de678f519c4b3daa7265e683b4fe2d814077f9094afd11d8f217039ec &  0.0 & Nyla      & Female     & 22\\\\\n",
       "\t Veteran  &  TRUE & 7a4686586d290c67179275c7c3dfb4ea02f4d317d9ee0e2cee98baa27877a875 &  1.6 & Lane      & Female     & 23\\\\\n",
       "\t Pro      &  TRUE & 4caa42e1b20511552434978171dcf7283fb6eb857eb871327e39bfc328002309 &  0.0 & Daniela   & Male       & 17\\\\\n",
       "\t Beginner &  TRUE & 4bed6f49b672974f706aa7f020b4f29020326bf594520593557cd381a51559b8 &  1.5 & Sarah     & Female     & 25\\\\\n",
       "\t Amateur  &  TRUE & 3caa832978e0596779f4ee7c686c4592fb6de893925025d25bf26be9a8cd03f5 &  0.2 & Thatcher  & Male       & 22\\\\\n",
       "\t Veteran  &  TRUE & 6f9acf8ea9956fe817895c78d10e1e25c11aba335a451e5b0322b073ee5008c4 &  0.0 & Niamh     & Non-binary & 17\\\\\n",
       "\t Amateur  & FALSE & 2313a06afe47eacc28ff55adf6f072e7d12b0d12d7cbae29656f9029ec72bb53 &  0.0 & Quinlan   & Male       & 22\\\\\n",
       "\t Beginner &  TRUE & 9db37a1d381697f6c83e3b97b276e38bb9d9c811ba4596edb75d4dbfea6415b0 &  0.0 & Elodie    & Female     & 17\\\\\n",
       "\t Amateur  &  TRUE & a175d4741dc84e6baf77901f6e8e0a06f54809a34e6b5211159bced346f7fb3e & 48.4 & Xander    & Female     & 17\\\\\n",
       "\t Amateur  &  TRUE & ab1f44f93c3b828f55458971db393052d9711df3e0e7ff69540bfebfcec555ff &  0.5 & Marley    & Male       & 17\\\\\n",
       "\t Regular  &  TRUE & 20ae3f8b5323674fe6e537bc91928841cfc2a00c1b36522fd25370bb6fa89d36 &  0.6 & Ryker     & Male       & 19\\\\\n",
       "\t Regular  &  TRUE & bc704ff2bc676dbf48ee41b9e11481c1387bf758ad318f2428f336e3fecc6660 &  0.3 & Andy      & Male       &  8\\\\\n",
       "\t Amateur  & FALSE & 200db0417ee70863c7e2a0f214c737476fb86de5869d0b907a077d726357e687 &  0.1 & Anastasia & Female     & 17\\\\\n",
       "\t Beginner &  TRUE & f9ac013b2f0bc2bd4928a6a0fc8a0aae8b5c4f2670cf9e18f547b7e72034c965 &  1.0 & Leah      & Male       & 17\\\\\n",
       "\t Beginner &  TRUE & 89c8e07d6a2aa102d9cd05086d51b2e41195c9c807dd976a06f4262ff36d0cca &  0.0 & Ren       & Male       & 17\\\\\n",
       "\t Amateur  &  TRUE & 119f01b9877fc5ea0073d05602a353b91c4b48e4cf02f42bb8d661b46a34b760 &  0.7 & Hugo      & Female     & 21\\\\\n",
       "\t Regular  &  TRUE & 5baba1651a0b92788bc0d6dcdf00be64af1cf9f0015bbeed204ddabd1d872e83 &  0.6 & Kendall   & Female     & 28\\\\\n",
       "\t Regular  &  TRUE & 50cec73a632e4be7b155c3df5165de28b2c5baf092abcb7f509f5645776a56c2 &  0.0 & Iman      & Male       & 17\\\\\n",
       "\t Veteran  & FALSE & f8acd26a5e452b682b9f8b20108caef1ee2e745efe08e95806980bd2388a3fea &  0.0 & Finn      & Male       & 23\\\\\n",
       "\t Amateur  &  TRUE & 4b01bce3f141289709e8278b02ba5d2aaa7105d7ccb9c7deb37670a80e332774 &  1.8 & Luca      & Male       & 23\\\\\n",
       "\t Veteran  & FALSE & 951e54f7376e2b2f0915e9e3646c701af4a2fe839385b13f9e0084b08f8070bd &  0.1 & Vivienne  & Male       & 18\\\\\n",
       "\t ⋮ & ⋮ & ⋮ & ⋮ & ⋮ & ⋮ & ⋮\\\\\n",
       "\t Regular  &  TRUE & c121e4d197469bea90e21c0495001f4e21824adb98cbc6a40d54e66617cee174 &  0.1 & Rupert    & Male              & 21\\\\\n",
       "\t Amateur  & FALSE & 7096b30972a32029244fc6171f21bc5996b51b8d75df7a94f003dead428988f9 &  1.0 & Radwan    & Male              & 26\\\\\n",
       "\t Beginner & FALSE & 42eafe96ed5c1684e3b5cc614d1b01a117173d3ec6898abcf1177d9822bd39f7 &  0.3 & Ariana    & Female            & 17\\\\\n",
       "\t Veteran  &  TRUE & 9ba67e127e4e70d909f6237644bb4674b17bc6ae5c9e735f88cfc50e22b499c6 &  0.1 & Quinton   & Male              & 17\\\\\n",
       "\t Veteran  & FALSE & 4bfad3613c71ace05644bf210195d9fb0d3d9513753ad2f8a16d1a80699bb906 &  0.1 & Rocco     & Male              & 17\\\\\n",
       "\t Pro      & FALSE & 060aca80f8cfbf1c91553a72f4d5ec8034764b05ab59fe8e1cf0eee9a7b67967 &  0.4 & Lyra      & Male              & 21\\\\\n",
       "\t Beginner & FALSE & 80afc8e7137de6a232421e926c1e6e64ddeef1d8157c4439746bc00fcf91e8a7 &  1.8 & Amelia    & Male              & 32\\\\\n",
       "\t Veteran  &  TRUE & af6b2350478c6bd6af97c91c7eed1d121b82676d1d519ef5b6cfa16dd451fe27 &  0.0 & Saif      & Agender           & 20\\\\\n",
       "\t Regular  & FALSE & 7b17513f11968feaf6b02977885c436dc2a4549489ca25ef03022f9fbae19d81 &  0.0 & Balthazar & Male              & 50\\\\\n",
       "\t Veteran  &  TRUE & 171d3c323c6430ffe0722c931f4cced5c48935f6804e0ff250964e4c41da55b1 &  0.0 & Parker    & Male              & 17\\\\\n",
       "\t Amateur  &  TRUE & 55d24216db39c27e1f17cc43d3127cbf8ed76ada6d098202b53ded319855e2c1 &  0.3 & Joaquim   & Male              & 17\\\\\n",
       "\t Pro      & FALSE & e1e5b1d36ab7680b6927fd3cb619c2b5373167750f90f7a21bf67b5d9b0fd73f &  0.0 & Jesse     & Non-binary        & 17\\\\\n",
       "\t Veteran  & FALSE & a1e0438d568b9c05a93cadaf99969e4d44794d19dea31edd723cbc916f878c33 &  2.7 & Jamie     & Non-binary        & 21\\\\\n",
       "\t Amateur  &  TRUE & 9955ab948064150d3686ef564389bdc6d6c60bc620a5ce3084b3dec4a7a006a7 &  0.4 & Charlie   & Two-Spirited      & 17\\\\\n",
       "\t Veteran  &  TRUE & 6b1cdc07fcc1f7ea09509341fd245dd34fdba386f14a493e9107c18604baedc9 &  0.1 & Finnian   & Non-binary        & 17\\\\\n",
       "\t Amateur  & FALSE & 93efabc9f7de58f44c457bac715cf8f9f44cd88cc574fc02624cac194d2f0ea5 &  2.1 & Sebastián & Male              & 24\\\\\n",
       "\t Amateur  &  TRUE & 42382bb2af563e6979c5b84d288cbb49bb2ef90b1bcf196c2902da4ce20eb7f3 &  0.8 & Hunter    & Female            & 22\\\\\n",
       "\t Pro      & FALSE & f7875ae87a61632030d5c4029ee8cf081be7047b2b4a9c04ab5a706f59786197 &  0.2 & Liam      & Male              & 17\\\\\n",
       "\t Amateur  &  TRUE & 24d4892c2c3ce11d3e54c3bf31ee218901cac7a2f564911d67424c8fdf0874fe & 32.0 & Sidney    & Male              & 22\\\\\n",
       "\t Pro      & FALSE & d46bd29a2ed08e3500bd8729085ef4b6f0ca65baf4c756f88b6bedf7a18e0352 &  1.7 & Asher     & Male              & 17\\\\\n",
       "\t Regular  & FALSE & 8e98b6db2053af0bc0e62cd55bcea5a08f23986dec3d02ca520ea039517e6744 &  0.1 & Sam       & Male              & 18\\\\\n",
       "\t Veteran  &  TRUE & ba24bebe588a34ac546f8559850c65bc90cd9d51b821581bd6e25cff437a1081 &  0.1 & Gabriela  & Female            & 44\\\\\n",
       "\t Amateur  &  TRUE & e3f0ad9aadd27f3d1d9197e58546d045018daa767675033d9af9a2b74e763739 &  0.0 & Jasper    & Male              & 17\\\\\n",
       "\t Beginner &  TRUE & 8c9d043ebb3689e679a37bfed30ea96272bcd14689ed2d9fcd68a4ae0c1663bc &  0.0 & Lina      & Female            & 17\\\\\n",
       "\t Amateur  & FALSE & 514ebbaa30f0d162127e065ab780892b7930cf8d75944d5eb09c91c02d6026c7 &  0.0 & Orion     & Male              & 17\\\\\n",
       "\t Amateur  &  TRUE & 644fe4200c19a73768b3fa598afcbd0948f7557925b7f17166285da23af31cc6 &  0.0 & Rhys      & Male              & 20\\\\\n",
       "\t Amateur  &  TRUE & b6e9e593b9ec51c5e335457341c324c34a2239531e1890b93ca52ac1dc76b08f &  0.0 & Bailey    & Female            & 17\\\\\n",
       "\t Veteran  & FALSE & 71453e425f07d10da4fa2b349c83e73ccdf0fb3312f778b35c5802c3292c87bd &  0.3 & Pascal    & Male              & 22\\\\\n",
       "\t Amateur  & FALSE & d572f391d452b76ea2d7e5e53a3d38bfd7499c7399db299bd4fedb06a46ad5bb &  0.0 & Dylan     & Prefer not to say & 17\\\\\n",
       "\t Amateur  & FALSE & f19e136ddde68f365afc860c725ccff54307dedd13968e896a9f890c40aea436 &  2.3 & Harlow    & Male              & 17\\\\\n",
       "\\end{tabular}\n"
      ],
      "text/markdown": [
       "\n",
       "A spec_tbl_df: 194 × 7\n",
       "\n",
       "| experience &lt;chr&gt; | subscribe &lt;lgl&gt; | hashedEmail &lt;chr&gt; | played_hours &lt;dbl&gt; | name &lt;chr&gt; | gender &lt;chr&gt; | Age &lt;dbl&gt; |\n",
       "|---|---|---|---|---|---|---|\n",
       "| Pro      |  TRUE | f6daba428a5e19a3d47574858c13550499be23603422e6a0ee9728f8b53e192d | 30.3 | Morgan    | Male       |  9 |\n",
       "| Veteran  |  TRUE | f3c813577c458ba0dfef80996f8f32c93b6e8af1fa939732842f2312358a88e9 |  3.8 | Christian | Male       | 17 |\n",
       "| Veteran  | FALSE | b674dd7ee0d24096d1c019615ce4d12b20fcbff12d79d3c5a9d2118eb7ccbb28 |  0.0 | Blake     | Male       | 17 |\n",
       "| Amateur  |  TRUE | 23fe711e0e3b77f1da7aa221ab1192afe21648d47d2b4fa7a5a659ff443a0eb5 |  0.7 | Flora     | Female     | 21 |\n",
       "| Regular  |  TRUE | 7dc01f10bf20671ecfccdac23812b1b415acd42c2147cb0af4d48fcce2420f3e |  0.1 | Kylie     | Male       | 21 |\n",
       "| Amateur  |  TRUE | f58aad5996a435f16b0284a3b267f973f9af99e7a89bee0430055a44fa92f977 |  0.0 | Adrian    | Female     | 17 |\n",
       "| Regular  |  TRUE | 8e594b8953193b26f498db95a508b03c6fe1c24bb5251d392c18a0da9a722807 |  0.0 | Luna      | Female     | 19 |\n",
       "| Amateur  | FALSE | 1d2371d8a35c8831034b25bda8764539ab7db0f63938696917c447128a2540dd |  0.0 | Emerson   | Male       | 21 |\n",
       "| Amateur  |  TRUE | 8b71f4d66a38389b7528bb38ba6eb71157733df7d1740371852a797ae97d82d1 |  0.1 | Natalie   | Male       | 17 |\n",
       "| Veteran  |  TRUE | bbe2d83de678f519c4b3daa7265e683b4fe2d814077f9094afd11d8f217039ec |  0.0 | Nyla      | Female     | 22 |\n",
       "| Veteran  |  TRUE | 7a4686586d290c67179275c7c3dfb4ea02f4d317d9ee0e2cee98baa27877a875 |  1.6 | Lane      | Female     | 23 |\n",
       "| Pro      |  TRUE | 4caa42e1b20511552434978171dcf7283fb6eb857eb871327e39bfc328002309 |  0.0 | Daniela   | Male       | 17 |\n",
       "| Beginner |  TRUE | 4bed6f49b672974f706aa7f020b4f29020326bf594520593557cd381a51559b8 |  1.5 | Sarah     | Female     | 25 |\n",
       "| Amateur  |  TRUE | 3caa832978e0596779f4ee7c686c4592fb6de893925025d25bf26be9a8cd03f5 |  0.2 | Thatcher  | Male       | 22 |\n",
       "| Veteran  |  TRUE | 6f9acf8ea9956fe817895c78d10e1e25c11aba335a451e5b0322b073ee5008c4 |  0.0 | Niamh     | Non-binary | 17 |\n",
       "| Amateur  | FALSE | 2313a06afe47eacc28ff55adf6f072e7d12b0d12d7cbae29656f9029ec72bb53 |  0.0 | Quinlan   | Male       | 22 |\n",
       "| Beginner |  TRUE | 9db37a1d381697f6c83e3b97b276e38bb9d9c811ba4596edb75d4dbfea6415b0 |  0.0 | Elodie    | Female     | 17 |\n",
       "| Amateur  |  TRUE | a175d4741dc84e6baf77901f6e8e0a06f54809a34e6b5211159bced346f7fb3e | 48.4 | Xander    | Female     | 17 |\n",
       "| Amateur  |  TRUE | ab1f44f93c3b828f55458971db393052d9711df3e0e7ff69540bfebfcec555ff |  0.5 | Marley    | Male       | 17 |\n",
       "| Regular  |  TRUE | 20ae3f8b5323674fe6e537bc91928841cfc2a00c1b36522fd25370bb6fa89d36 |  0.6 | Ryker     | Male       | 19 |\n",
       "| Regular  |  TRUE | bc704ff2bc676dbf48ee41b9e11481c1387bf758ad318f2428f336e3fecc6660 |  0.3 | Andy      | Male       |  8 |\n",
       "| Amateur  | FALSE | 200db0417ee70863c7e2a0f214c737476fb86de5869d0b907a077d726357e687 |  0.1 | Anastasia | Female     | 17 |\n",
       "| Beginner |  TRUE | f9ac013b2f0bc2bd4928a6a0fc8a0aae8b5c4f2670cf9e18f547b7e72034c965 |  1.0 | Leah      | Male       | 17 |\n",
       "| Beginner |  TRUE | 89c8e07d6a2aa102d9cd05086d51b2e41195c9c807dd976a06f4262ff36d0cca |  0.0 | Ren       | Male       | 17 |\n",
       "| Amateur  |  TRUE | 119f01b9877fc5ea0073d05602a353b91c4b48e4cf02f42bb8d661b46a34b760 |  0.7 | Hugo      | Female     | 21 |\n",
       "| Regular  |  TRUE | 5baba1651a0b92788bc0d6dcdf00be64af1cf9f0015bbeed204ddabd1d872e83 |  0.6 | Kendall   | Female     | 28 |\n",
       "| Regular  |  TRUE | 50cec73a632e4be7b155c3df5165de28b2c5baf092abcb7f509f5645776a56c2 |  0.0 | Iman      | Male       | 17 |\n",
       "| Veteran  | FALSE | f8acd26a5e452b682b9f8b20108caef1ee2e745efe08e95806980bd2388a3fea |  0.0 | Finn      | Male       | 23 |\n",
       "| Amateur  |  TRUE | 4b01bce3f141289709e8278b02ba5d2aaa7105d7ccb9c7deb37670a80e332774 |  1.8 | Luca      | Male       | 23 |\n",
       "| Veteran  | FALSE | 951e54f7376e2b2f0915e9e3646c701af4a2fe839385b13f9e0084b08f8070bd |  0.1 | Vivienne  | Male       | 18 |\n",
       "| ⋮ | ⋮ | ⋮ | ⋮ | ⋮ | ⋮ | ⋮ |\n",
       "| Regular  |  TRUE | c121e4d197469bea90e21c0495001f4e21824adb98cbc6a40d54e66617cee174 |  0.1 | Rupert    | Male              | 21 |\n",
       "| Amateur  | FALSE | 7096b30972a32029244fc6171f21bc5996b51b8d75df7a94f003dead428988f9 |  1.0 | Radwan    | Male              | 26 |\n",
       "| Beginner | FALSE | 42eafe96ed5c1684e3b5cc614d1b01a117173d3ec6898abcf1177d9822bd39f7 |  0.3 | Ariana    | Female            | 17 |\n",
       "| Veteran  |  TRUE | 9ba67e127e4e70d909f6237644bb4674b17bc6ae5c9e735f88cfc50e22b499c6 |  0.1 | Quinton   | Male              | 17 |\n",
       "| Veteran  | FALSE | 4bfad3613c71ace05644bf210195d9fb0d3d9513753ad2f8a16d1a80699bb906 |  0.1 | Rocco     | Male              | 17 |\n",
       "| Pro      | FALSE | 060aca80f8cfbf1c91553a72f4d5ec8034764b05ab59fe8e1cf0eee9a7b67967 |  0.4 | Lyra      | Male              | 21 |\n",
       "| Beginner | FALSE | 80afc8e7137de6a232421e926c1e6e64ddeef1d8157c4439746bc00fcf91e8a7 |  1.8 | Amelia    | Male              | 32 |\n",
       "| Veteran  |  TRUE | af6b2350478c6bd6af97c91c7eed1d121b82676d1d519ef5b6cfa16dd451fe27 |  0.0 | Saif      | Agender           | 20 |\n",
       "| Regular  | FALSE | 7b17513f11968feaf6b02977885c436dc2a4549489ca25ef03022f9fbae19d81 |  0.0 | Balthazar | Male              | 50 |\n",
       "| Veteran  |  TRUE | 171d3c323c6430ffe0722c931f4cced5c48935f6804e0ff250964e4c41da55b1 |  0.0 | Parker    | Male              | 17 |\n",
       "| Amateur  |  TRUE | 55d24216db39c27e1f17cc43d3127cbf8ed76ada6d098202b53ded319855e2c1 |  0.3 | Joaquim   | Male              | 17 |\n",
       "| Pro      | FALSE | e1e5b1d36ab7680b6927fd3cb619c2b5373167750f90f7a21bf67b5d9b0fd73f |  0.0 | Jesse     | Non-binary        | 17 |\n",
       "| Veteran  | FALSE | a1e0438d568b9c05a93cadaf99969e4d44794d19dea31edd723cbc916f878c33 |  2.7 | Jamie     | Non-binary        | 21 |\n",
       "| Amateur  |  TRUE | 9955ab948064150d3686ef564389bdc6d6c60bc620a5ce3084b3dec4a7a006a7 |  0.4 | Charlie   | Two-Spirited      | 17 |\n",
       "| Veteran  |  TRUE | 6b1cdc07fcc1f7ea09509341fd245dd34fdba386f14a493e9107c18604baedc9 |  0.1 | Finnian   | Non-binary        | 17 |\n",
       "| Amateur  | FALSE | 93efabc9f7de58f44c457bac715cf8f9f44cd88cc574fc02624cac194d2f0ea5 |  2.1 | Sebastián | Male              | 24 |\n",
       "| Amateur  |  TRUE | 42382bb2af563e6979c5b84d288cbb49bb2ef90b1bcf196c2902da4ce20eb7f3 |  0.8 | Hunter    | Female            | 22 |\n",
       "| Pro      | FALSE | f7875ae87a61632030d5c4029ee8cf081be7047b2b4a9c04ab5a706f59786197 |  0.2 | Liam      | Male              | 17 |\n",
       "| Amateur  |  TRUE | 24d4892c2c3ce11d3e54c3bf31ee218901cac7a2f564911d67424c8fdf0874fe | 32.0 | Sidney    | Male              | 22 |\n",
       "| Pro      | FALSE | d46bd29a2ed08e3500bd8729085ef4b6f0ca65baf4c756f88b6bedf7a18e0352 |  1.7 | Asher     | Male              | 17 |\n",
       "| Regular  | FALSE | 8e98b6db2053af0bc0e62cd55bcea5a08f23986dec3d02ca520ea039517e6744 |  0.1 | Sam       | Male              | 18 |\n",
       "| Veteran  |  TRUE | ba24bebe588a34ac546f8559850c65bc90cd9d51b821581bd6e25cff437a1081 |  0.1 | Gabriela  | Female            | 44 |\n",
       "| Amateur  |  TRUE | e3f0ad9aadd27f3d1d9197e58546d045018daa767675033d9af9a2b74e763739 |  0.0 | Jasper    | Male              | 17 |\n",
       "| Beginner |  TRUE | 8c9d043ebb3689e679a37bfed30ea96272bcd14689ed2d9fcd68a4ae0c1663bc |  0.0 | Lina      | Female            | 17 |\n",
       "| Amateur  | FALSE | 514ebbaa30f0d162127e065ab780892b7930cf8d75944d5eb09c91c02d6026c7 |  0.0 | Orion     | Male              | 17 |\n",
       "| Amateur  |  TRUE | 644fe4200c19a73768b3fa598afcbd0948f7557925b7f17166285da23af31cc6 |  0.0 | Rhys      | Male              | 20 |\n",
       "| Amateur  |  TRUE | b6e9e593b9ec51c5e335457341c324c34a2239531e1890b93ca52ac1dc76b08f |  0.0 | Bailey    | Female            | 17 |\n",
       "| Veteran  | FALSE | 71453e425f07d10da4fa2b349c83e73ccdf0fb3312f778b35c5802c3292c87bd |  0.3 | Pascal    | Male              | 22 |\n",
       "| Amateur  | FALSE | d572f391d452b76ea2d7e5e53a3d38bfd7499c7399db299bd4fedb06a46ad5bb |  0.0 | Dylan     | Prefer not to say | 17 |\n",
       "| Amateur  | FALSE | f19e136ddde68f365afc860c725ccff54307dedd13968e896a9f890c40aea436 |  2.3 | Harlow    | Male              | 17 |\n",
       "\n"
      ],
      "text/plain": [
       "    experience subscribe\n",
       "1   Pro         TRUE    \n",
       "2   Veteran     TRUE    \n",
       "3   Veteran    FALSE    \n",
       "4   Amateur     TRUE    \n",
       "5   Regular     TRUE    \n",
       "6   Amateur     TRUE    \n",
       "7   Regular     TRUE    \n",
       "8   Amateur    FALSE    \n",
       "9   Amateur     TRUE    \n",
       "10  Veteran     TRUE    \n",
       "11  Veteran     TRUE    \n",
       "12  Pro         TRUE    \n",
       "13  Beginner    TRUE    \n",
       "14  Amateur     TRUE    \n",
       "15  Veteran     TRUE    \n",
       "16  Amateur    FALSE    \n",
       "17  Beginner    TRUE    \n",
       "18  Amateur     TRUE    \n",
       "19  Amateur     TRUE    \n",
       "20  Regular     TRUE    \n",
       "21  Regular     TRUE    \n",
       "22  Amateur    FALSE    \n",
       "23  Beginner    TRUE    \n",
       "24  Beginner    TRUE    \n",
       "25  Amateur     TRUE    \n",
       "26  Regular     TRUE    \n",
       "27  Regular     TRUE    \n",
       "28  Veteran    FALSE    \n",
       "29  Amateur     TRUE    \n",
       "30  Veteran    FALSE    \n",
       "⋮   ⋮          ⋮        \n",
       "165 Regular     TRUE    \n",
       "166 Amateur    FALSE    \n",
       "167 Beginner   FALSE    \n",
       "168 Veteran     TRUE    \n",
       "169 Veteran    FALSE    \n",
       "170 Pro        FALSE    \n",
       "171 Beginner   FALSE    \n",
       "172 Veteran     TRUE    \n",
       "173 Regular    FALSE    \n",
       "174 Veteran     TRUE    \n",
       "175 Amateur     TRUE    \n",
       "176 Pro        FALSE    \n",
       "177 Veteran    FALSE    \n",
       "178 Amateur     TRUE    \n",
       "179 Veteran     TRUE    \n",
       "180 Amateur    FALSE    \n",
       "181 Amateur     TRUE    \n",
       "182 Pro        FALSE    \n",
       "183 Amateur     TRUE    \n",
       "184 Pro        FALSE    \n",
       "185 Regular    FALSE    \n",
       "186 Veteran     TRUE    \n",
       "187 Amateur     TRUE    \n",
       "188 Beginner    TRUE    \n",
       "189 Amateur    FALSE    \n",
       "190 Amateur     TRUE    \n",
       "191 Amateur     TRUE    \n",
       "192 Veteran    FALSE    \n",
       "193 Amateur    FALSE    \n",
       "194 Amateur    FALSE    \n",
       "    hashedEmail                                                     \n",
       "1   f6daba428a5e19a3d47574858c13550499be23603422e6a0ee9728f8b53e192d\n",
       "2   f3c813577c458ba0dfef80996f8f32c93b6e8af1fa939732842f2312358a88e9\n",
       "3   b674dd7ee0d24096d1c019615ce4d12b20fcbff12d79d3c5a9d2118eb7ccbb28\n",
       "4   23fe711e0e3b77f1da7aa221ab1192afe21648d47d2b4fa7a5a659ff443a0eb5\n",
       "5   7dc01f10bf20671ecfccdac23812b1b415acd42c2147cb0af4d48fcce2420f3e\n",
       "6   f58aad5996a435f16b0284a3b267f973f9af99e7a89bee0430055a44fa92f977\n",
       "7   8e594b8953193b26f498db95a508b03c6fe1c24bb5251d392c18a0da9a722807\n",
       "8   1d2371d8a35c8831034b25bda8764539ab7db0f63938696917c447128a2540dd\n",
       "9   8b71f4d66a38389b7528bb38ba6eb71157733df7d1740371852a797ae97d82d1\n",
       "10  bbe2d83de678f519c4b3daa7265e683b4fe2d814077f9094afd11d8f217039ec\n",
       "11  7a4686586d290c67179275c7c3dfb4ea02f4d317d9ee0e2cee98baa27877a875\n",
       "12  4caa42e1b20511552434978171dcf7283fb6eb857eb871327e39bfc328002309\n",
       "13  4bed6f49b672974f706aa7f020b4f29020326bf594520593557cd381a51559b8\n",
       "14  3caa832978e0596779f4ee7c686c4592fb6de893925025d25bf26be9a8cd03f5\n",
       "15  6f9acf8ea9956fe817895c78d10e1e25c11aba335a451e5b0322b073ee5008c4\n",
       "16  2313a06afe47eacc28ff55adf6f072e7d12b0d12d7cbae29656f9029ec72bb53\n",
       "17  9db37a1d381697f6c83e3b97b276e38bb9d9c811ba4596edb75d4dbfea6415b0\n",
       "18  a175d4741dc84e6baf77901f6e8e0a06f54809a34e6b5211159bced346f7fb3e\n",
       "19  ab1f44f93c3b828f55458971db393052d9711df3e0e7ff69540bfebfcec555ff\n",
       "20  20ae3f8b5323674fe6e537bc91928841cfc2a00c1b36522fd25370bb6fa89d36\n",
       "21  bc704ff2bc676dbf48ee41b9e11481c1387bf758ad318f2428f336e3fecc6660\n",
       "22  200db0417ee70863c7e2a0f214c737476fb86de5869d0b907a077d726357e687\n",
       "23  f9ac013b2f0bc2bd4928a6a0fc8a0aae8b5c4f2670cf9e18f547b7e72034c965\n",
       "24  89c8e07d6a2aa102d9cd05086d51b2e41195c9c807dd976a06f4262ff36d0cca\n",
       "25  119f01b9877fc5ea0073d05602a353b91c4b48e4cf02f42bb8d661b46a34b760\n",
       "26  5baba1651a0b92788bc0d6dcdf00be64af1cf9f0015bbeed204ddabd1d872e83\n",
       "27  50cec73a632e4be7b155c3df5165de28b2c5baf092abcb7f509f5645776a56c2\n",
       "28  f8acd26a5e452b682b9f8b20108caef1ee2e745efe08e95806980bd2388a3fea\n",
       "29  4b01bce3f141289709e8278b02ba5d2aaa7105d7ccb9c7deb37670a80e332774\n",
       "30  951e54f7376e2b2f0915e9e3646c701af4a2fe839385b13f9e0084b08f8070bd\n",
       "⋮   ⋮                                                               \n",
       "165 c121e4d197469bea90e21c0495001f4e21824adb98cbc6a40d54e66617cee174\n",
       "166 7096b30972a32029244fc6171f21bc5996b51b8d75df7a94f003dead428988f9\n",
       "167 42eafe96ed5c1684e3b5cc614d1b01a117173d3ec6898abcf1177d9822bd39f7\n",
       "168 9ba67e127e4e70d909f6237644bb4674b17bc6ae5c9e735f88cfc50e22b499c6\n",
       "169 4bfad3613c71ace05644bf210195d9fb0d3d9513753ad2f8a16d1a80699bb906\n",
       "170 060aca80f8cfbf1c91553a72f4d5ec8034764b05ab59fe8e1cf0eee9a7b67967\n",
       "171 80afc8e7137de6a232421e926c1e6e64ddeef1d8157c4439746bc00fcf91e8a7\n",
       "172 af6b2350478c6bd6af97c91c7eed1d121b82676d1d519ef5b6cfa16dd451fe27\n",
       "173 7b17513f11968feaf6b02977885c436dc2a4549489ca25ef03022f9fbae19d81\n",
       "174 171d3c323c6430ffe0722c931f4cced5c48935f6804e0ff250964e4c41da55b1\n",
       "175 55d24216db39c27e1f17cc43d3127cbf8ed76ada6d098202b53ded319855e2c1\n",
       "176 e1e5b1d36ab7680b6927fd3cb619c2b5373167750f90f7a21bf67b5d9b0fd73f\n",
       "177 a1e0438d568b9c05a93cadaf99969e4d44794d19dea31edd723cbc916f878c33\n",
       "178 9955ab948064150d3686ef564389bdc6d6c60bc620a5ce3084b3dec4a7a006a7\n",
       "179 6b1cdc07fcc1f7ea09509341fd245dd34fdba386f14a493e9107c18604baedc9\n",
       "180 93efabc9f7de58f44c457bac715cf8f9f44cd88cc574fc02624cac194d2f0ea5\n",
       "181 42382bb2af563e6979c5b84d288cbb49bb2ef90b1bcf196c2902da4ce20eb7f3\n",
       "182 f7875ae87a61632030d5c4029ee8cf081be7047b2b4a9c04ab5a706f59786197\n",
       "183 24d4892c2c3ce11d3e54c3bf31ee218901cac7a2f564911d67424c8fdf0874fe\n",
       "184 d46bd29a2ed08e3500bd8729085ef4b6f0ca65baf4c756f88b6bedf7a18e0352\n",
       "185 8e98b6db2053af0bc0e62cd55bcea5a08f23986dec3d02ca520ea039517e6744\n",
       "186 ba24bebe588a34ac546f8559850c65bc90cd9d51b821581bd6e25cff437a1081\n",
       "187 e3f0ad9aadd27f3d1d9197e58546d045018daa767675033d9af9a2b74e763739\n",
       "188 8c9d043ebb3689e679a37bfed30ea96272bcd14689ed2d9fcd68a4ae0c1663bc\n",
       "189 514ebbaa30f0d162127e065ab780892b7930cf8d75944d5eb09c91c02d6026c7\n",
       "190 644fe4200c19a73768b3fa598afcbd0948f7557925b7f17166285da23af31cc6\n",
       "191 b6e9e593b9ec51c5e335457341c324c34a2239531e1890b93ca52ac1dc76b08f\n",
       "192 71453e425f07d10da4fa2b349c83e73ccdf0fb3312f778b35c5802c3292c87bd\n",
       "193 d572f391d452b76ea2d7e5e53a3d38bfd7499c7399db299bd4fedb06a46ad5bb\n",
       "194 f19e136ddde68f365afc860c725ccff54307dedd13968e896a9f890c40aea436\n",
       "    played_hours name      gender            Age\n",
       "1   30.3         Morgan    Male               9 \n",
       "2    3.8         Christian Male              17 \n",
       "3    0.0         Blake     Male              17 \n",
       "4    0.7         Flora     Female            21 \n",
       "5    0.1         Kylie     Male              21 \n",
       "6    0.0         Adrian    Female            17 \n",
       "7    0.0         Luna      Female            19 \n",
       "8    0.0         Emerson   Male              21 \n",
       "9    0.1         Natalie   Male              17 \n",
       "10   0.0         Nyla      Female            22 \n",
       "11   1.6         Lane      Female            23 \n",
       "12   0.0         Daniela   Male              17 \n",
       "13   1.5         Sarah     Female            25 \n",
       "14   0.2         Thatcher  Male              22 \n",
       "15   0.0         Niamh     Non-binary        17 \n",
       "16   0.0         Quinlan   Male              22 \n",
       "17   0.0         Elodie    Female            17 \n",
       "18  48.4         Xander    Female            17 \n",
       "19   0.5         Marley    Male              17 \n",
       "20   0.6         Ryker     Male              19 \n",
       "21   0.3         Andy      Male               8 \n",
       "22   0.1         Anastasia Female            17 \n",
       "23   1.0         Leah      Male              17 \n",
       "24   0.0         Ren       Male              17 \n",
       "25   0.7         Hugo      Female            21 \n",
       "26   0.6         Kendall   Female            28 \n",
       "27   0.0         Iman      Male              17 \n",
       "28   0.0         Finn      Male              23 \n",
       "29   1.8         Luca      Male              23 \n",
       "30   0.1         Vivienne  Male              18 \n",
       "⋮   ⋮            ⋮         ⋮                 ⋮  \n",
       "165  0.1         Rupert    Male              21 \n",
       "166  1.0         Radwan    Male              26 \n",
       "167  0.3         Ariana    Female            17 \n",
       "168  0.1         Quinton   Male              17 \n",
       "169  0.1         Rocco     Male              17 \n",
       "170  0.4         Lyra      Male              21 \n",
       "171  1.8         Amelia    Male              32 \n",
       "172  0.0         Saif      Agender           20 \n",
       "173  0.0         Balthazar Male              50 \n",
       "174  0.0         Parker    Male              17 \n",
       "175  0.3         Joaquim   Male              17 \n",
       "176  0.0         Jesse     Non-binary        17 \n",
       "177  2.7         Jamie     Non-binary        21 \n",
       "178  0.4         Charlie   Two-Spirited      17 \n",
       "179  0.1         Finnian   Non-binary        17 \n",
       "180  2.1         Sebastián Male              24 \n",
       "181  0.8         Hunter    Female            22 \n",
       "182  0.2         Liam      Male              17 \n",
       "183 32.0         Sidney    Male              22 \n",
       "184  1.7         Asher     Male              17 \n",
       "185  0.1         Sam       Male              18 \n",
       "186  0.1         Gabriela  Female            44 \n",
       "187  0.0         Jasper    Male              17 \n",
       "188  0.0         Lina      Female            17 \n",
       "189  0.0         Orion     Male              17 \n",
       "190  0.0         Rhys      Male              20 \n",
       "191  0.0         Bailey    Female            17 \n",
       "192  0.3         Pascal    Male              22 \n",
       "193  0.0         Dylan     Prefer not to say 17 \n",
       "194  2.3         Harlow    Male              17 "
      ]
     },
     "metadata": {},
     "output_type": "display_data"
    }
   ],
   "source": [
    "# Clean Data\n",
    "players_clean <- players |> filter(!is.na(Age))"
   ]
  },
  {
   "cell_type": "code",
   "execution_count": null,
   "id": "bfca6527-7cc4-421c-9487-b1704d98da21",
   "metadata": {},
   "outputs": [],
   "source": []
  }
 ],
 "metadata": {
  "kernelspec": {
   "display_name": "R",
   "language": "R",
   "name": "ir"
  },
  "language_info": {
   "codemirror_mode": "r",
   "file_extension": ".r",
   "mimetype": "text/x-r-source",
   "name": "R",
   "pygments_lexer": "r",
   "version": "4.3.3"
  }
 },
 "nbformat": 4,
 "nbformat_minor": 5
}
